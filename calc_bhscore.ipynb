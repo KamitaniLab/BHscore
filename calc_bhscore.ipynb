{
 "cells": [
  {
   "cell_type": "markdown",
   "metadata": {},
   "source": [
    "# BH score\n",
    "\n",
    "This is a demo script reproducing the main results of [Nonaka et al. (2021) Brain hierarchy score: Which deep neural networks are hierarchically brain-like?. *iScience*](http://dx.doi.org/10.1016/j.isci.2021.103013)."
   ]
  },
  {
   "cell_type": "code",
   "execution_count": 1,
   "metadata": {},
   "outputs": [],
   "source": [
    "import os\n",
    "import json\n",
    "from itertools import product\n",
    "\n",
    "import numpy as np\n",
    "import hdf5storage\n",
    "import matplotlib.pyplot as plt\n",
    "\n",
    "from bhscore import compute_bhscore, compute_bhscore_layerselect"
   ]
  },
  {
   "cell_type": "code",
   "execution_count": 2,
   "metadata": {},
   "outputs": [],
   "source": [
    "# Settings\n",
    "with open('settings.json', 'r') as f:\n",
    "    settings = json.load(f)\n",
    "\n",
    "networks = settings['dnns']\n",
    "\n",
    "subjects = settings['subjects']\n",
    "rois = settings['rois']\n",
    "\n",
    "decoding_accuracy_dir = './data/decoding_accuracy/ImageNetTest'\n",
    "encoding_accuracy_dir = './data/encoding_accuracy/ImageNetTest'"
   ]
  },
  {
   "cell_type": "code",
   "execution_count": 3,
   "metadata": {},
   "outputs": [],
   "source": [
    "# Load decoding accuracy\n",
    "decoding_accuracy = {}\n",
    "\n",
    "for net_name, net in networks.items():\n",
    "    layers = net['layers']\n",
    "    acc_net = []\n",
    "\n",
    "    for lay in layers:\n",
    "        acc_layer = []  # This should be a 2-d array of ROIs x units.\n",
    "\n",
    "        for roi in rois:\n",
    "            acc_roi = []\n",
    "\n",
    "            # Pool decoding accuracies across subjects\n",
    "            for sub in subjects:\n",
    "                acc_file = os.path.join(decoding_accuracy_dir, net['dir'], lay, sub, roi, 'accuracy.mat')\n",
    "                acc = hdf5storage.loadmat(acc_file)['accuracy'].flatten()\n",
    "                acc_roi.append(acc)\n",
    "            acc_roi = np.hstack(acc_roi)\n",
    "            acc_layer.append(acc_roi)\n",
    "\n",
    "        acc_layer = np.vstack(acc_layer)\n",
    "        acc_net.append(acc_layer)\n",
    "\n",
    "    decoding_accuracy.update({net_name: acc_net})"
   ]
  },
  {
   "cell_type": "code",
   "execution_count": 4,
   "metadata": {},
   "outputs": [
    {
     "name": "stdout",
     "output_type": "stream",
     "text": [
      "AlexNet: 0.4928224368861789\n",
      "VGG-F: 0.511309960547578\n",
      "VGG-M: 0.5188937319034099\n",
      "VGG-S: 0.5367787736852041\n",
      "VGG-16: 0.4509592981190411\n",
      "VGG-19: 0.47820033850373683\n",
      "DenseNet-121: 0.4057783214720542\n",
      "DenseNet-161: 0.39798536584614624\n",
      "DenseNet-169: 0.38280530460561585\n",
      "DenseNet-201: 0.4050069285978119\n",
      "ResNet-50-v2: 0.17874310888687045\n",
      "ResNet-101-v2: 0.14758564520655\n",
      "ResNet-152-v2: 0.13765118762888953\n",
      "ResNet-18: 0.43566789542183243\n",
      "ResNet-34: 0.40799275231891025\n",
      "Inception-v1: 0.2626805749364008\n",
      "Inception-v2: 0.2428201761957668\n",
      "Inception-v3: 0.04675912334800784\n",
      "Inception-v4: 0.03877159379105938\n",
      "Inception-ResNet-v2: 0.18935473861142704\n",
      "SqueezeNet-1.0: 0.4679142153358977\n",
      "SqueezeNet-1.1: 0.3806511376248982\n",
      "NASNet-Mobile: 0.2019286905798524\n",
      "NASNet-Large: 0.07249763774156266\n",
      "PNASNet-Large: 0.17975438083252485\n",
      "CORnet-Z: 0.2958043016744105\n",
      "CORnet-R: 0.45847121344734754\n",
      "CORnet-S: 0.4468106311786503\n",
      "MobileNet-v2-1.4-224: 0.20157053453816953\n"
     ]
    }
   ],
   "source": [
    "# Calculate decoding-based BH scores\n",
    "bh_scores_dec = {}\n",
    "\n",
    "for net in networks:\n",
    "    bh_score = np.mean(compute_bhscore_layerselect(decoding_accuracy[net], pval=0.05, n_layers=5, n_repeat=100))\n",
    "    bh_scores_dec.update({net: bh_score})\n",
    "    print('{}: {}'.format(net, bh_score))"
   ]
  },
  {
   "cell_type": "code",
   "execution_count": 5,
   "metadata": {},
   "outputs": [],
   "source": [
    "# Load encoding accuracy\n",
    "encoding_accuracy = {}\n",
    "\n",
    "for net_name, net in networks.items():\n",
    "    layers = net['layers']\n",
    "    acc_net = []\n",
    "\n",
    "    for roi in rois:\n",
    "        acc_roi = []  # This should be a 2-d array of layers x voxels.\n",
    "\n",
    "        for lay in layers:\n",
    "            acc_layer = []\n",
    "\n",
    "            # Pool encoding accuracies across subjects\n",
    "            for sub in subjects:\n",
    "                acc_file = os.path.join(encoding_accuracy_dir, net['dir'], lay, sub, roi, 'accuracy.mat')\n",
    "                acc = hdf5storage.loadmat(acc_file)['accuracy'].flatten()\n",
    "                # Select random 1000 voxels\n",
    "                if len(acc) > 1000:\n",
    "                    np.random.seed(0)\n",
    "                    acc = np.random.choice(acc, size=1000, replace=False)\n",
    "                acc_layer.append(acc)\n",
    "            acc_layer = np.hstack(acc_layer)\n",
    "            acc_roi.append(acc_layer)\n",
    "\n",
    "        acc_roi = np.vstack(acc_roi)\n",
    "        acc_net.append(acc_roi)\n",
    "\n",
    "    encoding_accuracy.update({net_name: acc_net})"
   ]
  },
  {
   "cell_type": "code",
   "execution_count": 6,
   "metadata": {},
   "outputs": [
    {
     "name": "stdout",
     "output_type": "stream",
     "text": [
      "AlexNet: 0.3396893846667241\n",
      "VGG-F: 0.3335122643467014\n",
      "VGG-M: 0.3007579433882166\n",
      "VGG-S: 0.33320771565774904\n",
      "VGG-16: 0.3140827277486492\n",
      "VGG-19: 0.32501573437023884\n",
      "DenseNet-121: 0.15816601201758074\n",
      "DenseNet-161: 0.16397250480947376\n",
      "DenseNet-169: 0.1600756833177794\n",
      "DenseNet-201: 0.15055057054874896\n",
      "ResNet-50-v2: 0.20777355640726555\n",
      "ResNet-101-v2: 0.17974705887953604\n",
      "ResNet-152-v2: 0.14762296798275332\n",
      "ResNet-18: 0.3206887139165882\n",
      "ResNet-34: 0.3340086174537223\n",
      "Inception-v1: 0.25217374872152204\n",
      "Inception-v2: 0.23768792967484945\n",
      "Inception-v3: 0.2421976212996117\n",
      "Inception-v4: 0.16667742438955932\n",
      "Inception-ResNet-v2: 0.23925634379791547\n",
      "SqueezeNet-1.0: 0.20261743947153588\n",
      "SqueezeNet-1.1: 0.22346374692755167\n",
      "NASNet-Mobile: 0.22503197624663188\n",
      "NASNet-Large: 0.2557132655937244\n",
      "PNASNet-Large: 0.2389122764848542\n",
      "CORnet-Z: 0.23301553581150353\n",
      "CORnet-R: 0.38734730471436357\n",
      "CORnet-S: 0.306205341770931\n",
      "MobileNet-v2-1.4-224: 0.20544614317742066\n"
     ]
    }
   ],
   "source": [
    "# Calculate encoding-based BH scores\n",
    "bh_scores_enc = {}\n",
    "\n",
    "for net in networks:\n",
    "    bh_score = compute_bhscore(encoding_accuracy[net], pval=0.05)\n",
    "    bh_scores_enc.update({net: bh_score})\n",
    "    print('{}: {}'.format(net, bh_score))"
   ]
  },
  {
   "cell_type": "code",
   "execution_count": 7,
   "metadata": {},
   "outputs": [
    {
     "name": "stdout",
     "output_type": "stream",
     "text": [
      "AlexNet: 0.4162559107764515\n",
      "VGG-F: 0.4224111124471397\n",
      "VGG-M: 0.40982583764581326\n",
      "VGG-S: 0.4349932446714766\n",
      "VGG-16: 0.38252101293384516\n",
      "VGG-19: 0.40160803643698784\n",
      "DenseNet-121: 0.2819721667448175\n",
      "DenseNet-161: 0.28097893532781\n",
      "DenseNet-169: 0.2714404939616976\n",
      "DenseNet-201: 0.2777787495732804\n",
      "ResNet-50-v2: 0.193258332647068\n",
      "ResNet-101-v2: 0.16366635204304303\n",
      "ResNet-152-v2: 0.1426370778058214\n",
      "ResNet-18: 0.3781783046692103\n",
      "ResNet-34: 0.37100068488631627\n",
      "Inception-v1: 0.2574271618289614\n",
      "Inception-v2: 0.2402540529353081\n",
      "Inception-v3: 0.14447837232380978\n",
      "Inception-v4: 0.10272450909030935\n",
      "Inception-ResNet-v2: 0.21430554120467127\n",
      "SqueezeNet-1.0: 0.3352658274037168\n",
      "SqueezeNet-1.1: 0.30205744227622494\n",
      "NASNet-Mobile: 0.21348033341324213\n",
      "NASNet-Large: 0.16410545166764354\n",
      "PNASNet-Large: 0.20933332865868953\n",
      "CORnet-Z: 0.26440991874295705\n",
      "CORnet-R: 0.4229092590808555\n",
      "CORnet-S: 0.37650798647479067\n",
      "MobileNet-v2-1.4-224: 0.2035083388577951\n"
     ]
    }
   ],
   "source": [
    "# Calculate averaged BH scores\n",
    "bh_scores = {}\n",
    "\n",
    "for net in networks:\n",
    "    bh_score = np.mean([bh_scores_dec[net], bh_scores_enc[net]])\n",
    "    bh_scores.update({net: bh_score})\n",
    "    print('{}: {}'.format(net, bh_score))"
   ]
  },
  {
   "cell_type": "code",
   "execution_count": 8,
   "metadata": {},
   "outputs": [
    {
     "name": "stdout",
     "output_type": "stream",
     "text": [
      "VGG-S: 0.4349932446714766\n",
      "CORnet-R: 0.4229092590808555\n",
      "VGG-F: 0.4224111124471397\n",
      "AlexNet: 0.4162559107764515\n",
      "VGG-M: 0.40982583764581326\n",
      "VGG-19: 0.40160803643698784\n",
      "VGG-16: 0.38252101293384516\n",
      "ResNet-18: 0.3781783046692103\n",
      "CORnet-S: 0.37650798647479067\n",
      "ResNet-34: 0.37100068488631627\n",
      "SqueezeNet-1.0: 0.3352658274037168\n",
      "SqueezeNet-1.1: 0.30205744227622494\n",
      "DenseNet-121: 0.2819721667448175\n",
      "DenseNet-161: 0.28097893532781\n",
      "DenseNet-201: 0.2777787495732804\n",
      "DenseNet-169: 0.2714404939616976\n",
      "CORnet-Z: 0.26440991874295705\n",
      "Inception-v1: 0.2574271618289614\n",
      "Inception-v2: 0.2402540529353081\n",
      "Inception-ResNet-v2: 0.21430554120467127\n",
      "NASNet-Mobile: 0.21348033341324213\n",
      "PNASNet-Large: 0.20933332865868953\n",
      "MobileNet-v2-1.4-224: 0.2035083388577951\n",
      "ResNet-50-v2: 0.193258332647068\n",
      "NASNet-Large: 0.16410545166764354\n",
      "ResNet-101-v2: 0.16366635204304303\n",
      "Inception-v3: 0.14447837232380978\n",
      "ResNet-152-v2: 0.1426370778058214\n",
      "Inception-v4: 0.10272450909030935\n"
     ]
    },
    {
     "data": {
      "text/plain": [
       "([], [])"
      ]
     },
     "execution_count": 8,
     "metadata": {},
     "output_type": "execute_result"
    },
    {
     "data": {
      "image/png": "[encoded data removed]",
      "text/plain": [
       "<Figure size 576x1008 with 1 Axes>"
      ]
     },
     "metadata": {
      "needs_background": "light"
     },
     "output_type": "display_data"
    }
   ],
   "source": [
    "# Display BH score ranking (Figure 3)\n",
    "\n",
    "nets = np.array([n for n in bh_scores.keys()])\n",
    "bhscores = np.array([s for s in bh_scores.values()])\n",
    "\n",
    "ranking_index = np.argsort(bhscores)[::-1]\n",
    "nets = nets[ranking_index]\n",
    "bhscores = bhscores[ranking_index]\n",
    "\n",
    "for net, bhscore in zip(nets, bhscores):\n",
    "    print('{}: {}'.format(net, bhscore))\n",
    "\n",
    "# Bar chart\n",
    "\n",
    "fig = plt.figure(figsize=(8, 14))\n",
    "\n",
    "ypos = range(nets.shape[0])[::-1]\n",
    "\n",
    "plt.barh(ypos, bhscores)\n",
    "\n",
    "plt.title('BH score')\n",
    "\n",
    "plt.yticks(ypos, nets)\n",
    "plt.ylim([-0.5, nets.shape[0] - 0.5])\n",
    "\n",
    "for yp, bhs in zip(ypos, bhscores):\n",
    "    plt.text(bhs - 0.005, yp, '%.2f' % bhs, color='white',\n",
    "             horizontalalignment='right',\n",
    "             verticalalignment='center')\n",
    "\n",
    "plt.gca().spines['top'].set_visible(False)\n",
    "plt.gca().spines['right'].set_visible(False)\n",
    "plt.gca().spines['bottom'].set_visible(False)\n",
    "plt.xticks([])"
   ]
  }
 ],
 "metadata": {
  "kernelspec": {
   "display_name": "Python 3",
   "language": "python",
   "name": "python3"
  },
  "language_info": {
   "codemirror_mode": {
    "name": "ipython",
    "version": 3
   },
   "file_extension": ".py",
   "mimetype": "text/x-python",
   "name": "python",
   "nbconvert_exporter": "python",
   "pygments_lexer": "ipython3",
   "version": "3.8.5"
  }
 },
 "nbformat": 4,
 "nbformat_minor": 4
}
