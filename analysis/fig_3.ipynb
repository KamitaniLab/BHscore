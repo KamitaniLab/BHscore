{
 "cells": [
  {
   "cell_type": "code",
   "execution_count": null,
   "metadata": {},
   "outputs": [],
   "source": [
    "import numpy as np\n",
    "import pandas as pd\n",
    "import matplotlib.pyplot as plt\n",
    "from matplotlib import rc\n",
    "import seaborn as sns\n",
    "from hdf5storage import loadmat\n",
    "from scipy.stats import spearmanr"
   ]
  },
  {
   "cell_type": "markdown",
   "metadata": {},
   "source": [
    "# Load data"
   ]
  },
  {
   "cell_type": "code",
   "execution_count": null,
   "metadata": {},
   "outputs": [],
   "source": [
    "dat = loadmat('./data/bhscore_abs_pvalue_20200211.mat')"
   ]
  },
  {
   "cell_type": "code",
   "execution_count": null,
   "metadata": {},
   "outputs": [],
   "source": [
    "networks = np.array(dat['networks'])\n",
    "bhscores = np.array(dat['bhscores'])\n",
    "roi_dists = np.array(dat['best_roi_distributions'])\n",
    "\n",
    "# sort by BH scores\n",
    "sort_ind = np.argsort(bhscores)[::-1]\n",
    "bhscores = bhscores[sort_ind]\n",
    "networks = networks[sort_ind]\n",
    "roi_dists = roi_dists[sort_ind]"
   ]
  },
  {
   "cell_type": "markdown",
   "metadata": {},
   "source": [
    "# Figure 3A"
   ]
  },
  {
   "cell_type": "code",
   "execution_count": null,
   "metadata": {},
   "outputs": [],
   "source": [
    "rc('font',**{'family':'serif','serif':['Avenir']})\n",
    "plt.rcParams[\"font.size\"] = 8\n",
    "plt.rcParams[\"pdf.fonttype\"] = 42\n",
    "fig = plt.figure(figsize=(6, 6))\n",
    "ax = fig.add_subplot(1, 1, 1)\n",
    "\n",
    "sns.barplot(x=bhscores, y=networks, orient='h', ax=ax, color='cornflowerblue')\n",
    "for i_net, net in enumerate(networks):\n",
    "    ax.text(x=bhscores[i_net]-0.028, y=i_net+0.25, s=str(np.round(bhscores[i_net], 2)), color='white')\n",
    "\n",
    "# fig settings\n",
    "ax.spines['top'].set_visible(False)\n",
    "ax.spines['right'].set_visible(False)\n",
    "ax.spines['bottom'].set_visible(False)\n",
    "ax.set_xticks([])\n",
    "\n",
    "\n",
    "plt.savefig('figure_3A.pdf')"
   ]
  },
  {
   "cell_type": "code",
   "execution_count": null,
   "metadata": {},
   "outputs": [],
   "source": []
  },
  {
   "cell_type": "markdown",
   "metadata": {},
   "source": [
    "# Figure 3B"
   ]
  },
  {
   "cell_type": "code",
   "execution_count": null,
   "metadata": {},
   "outputs": [],
   "source": [
    "# ImageNet top-1 accuracy for each DNN\n",
    "\n",
    "dnn_acc_map = dict()\n",
    "dnn_acc_map['AlexNet'] = 57.7 \n",
    "dnn_acc_map['VGG-16'] = 71.5 \n",
    "dnn_acc_map['VGG-19'] = 71.1 \n",
    "dnn_acc_map['VGG-S'] = 63.3 \n",
    "dnn_acc_map['VGG-F'] = 58.9 \n",
    "dnn_acc_map['VGG-M'] = 62.7 \n",
    "dnn_acc_map['CORnet-R'] = 56 \n",
    "dnn_acc_map['CORnet-S'] = 75 \n",
    "dnn_acc_map['CORnet-Z'] = 48 \n",
    "dnn_acc_map['DenseNet-121'] = 74.91 \n",
    "dnn_acc_map['DenseNet-161'] = 77.64 \n",
    "dnn_acc_map['DenseNet-169'] = 76.09 \n",
    "dnn_acc_map['DenseNet-201'] = 77.31 \n",
    "dnn_acc_map['Inception-ResNet-v2'] = 80.4 \n",
    "dnn_acc_map['Inception-v1'] = 69.8 \n",
    "dnn_acc_map['Inception-v2'] = 73.9 \n",
    "dnn_acc_map['Inception-v3'] = 78.0 \n",
    "dnn_acc_map['Inception-v4'] = 80.2 \n",
    "dnn_acc_map['NASNet-Large'] = 82.7 \n",
    "dnn_acc_map['NASNet-Mobile'] = 74.0 \n",
    "dnn_acc_map['PNASNet-Large'] = 82.9 \n",
    "dnn_acc_map['ResNet-50-v2'] = 75.6 \n",
    "dnn_acc_map['ResNet-101-v2'] = 77.0 \n",
    "dnn_acc_map['ResNet-152-v2'] = 77.8 \n",
    "dnn_acc_map['ResNet-18'] = 69.8 \n",
    "dnn_acc_map['ResNet-34'] = 73.3 \n",
    "dnn_acc_map['SqueezeNet-1.0'] = 57.5 \n",
    "dnn_acc_map['SqueezeNet-1.1'] = 57.5 \n",
    "dnn_acc_map['MobileNet-v2-1.4-224'] = 75.0 \n"
   ]
  },
  {
   "cell_type": "code",
   "execution_count": null,
   "metadata": {},
   "outputs": [],
   "source": [
    "img_accs = []\n",
    "for n in networks:\n",
    "    img_accs.append(dnn_acc_map[n])"
   ]
  },
  {
   "cell_type": "code",
   "execution_count": null,
   "metadata": {},
   "outputs": [],
   "source": []
  },
  {
   "cell_type": "code",
   "execution_count": null,
   "metadata": {},
   "outputs": [],
   "source": [
    "# scatter\n",
    "\n",
    "def make_scatter(ax, array1, array2, labels):\n",
    "    ax.scatter(array1, array2, color=np.array([79, 139, 185])/255, s=15)\n",
    "    for a1, a2, l in zip(array1, array2, labels):\n",
    "        ax.text(a1, a2, l)\n",
    "    \n",
    "    ax.spines['top'].set_visible(False)\n",
    "    ax.spines['right'].set_visible(False)\n",
    "    \n",
    "    ax.text(45, 0.53, r'$\\rho$ = %.2f' % np.round(spearmanr(array1, array2)[0], 2))\n",
    " \n",
    "# https://stackoverflow.com/questions/50057591/matplotlib-scale-axis-lengths-to-be-equal\n",
    "def make_square_axes(ax):\n",
    "    \"\"\"Make an axes square in screen units.\n",
    "\n",
    "    Should be called after plotting.\n",
    "    \"\"\"\n",
    "    ax.set_aspect(1 / ax.get_data_ratio())"
   ]
  },
  {
   "cell_type": "code",
   "execution_count": null,
   "metadata": {},
   "outputs": [],
   "source": [
    "plt.rcParams[\"figure.figsize\"] = [210/25.4 * 0.35, 294/25.4 * 0.35]\n",
    "rc('font',**{'family':'serif','serif':['Avenir']})\n",
    "plt.rcParams[\"font.size\"] = 7\n",
    "plt.rcParams[\"pdf.fonttype\"] = 42\n",
    "\n",
    "fig = plt.figure()\n",
    "\n",
    "ax1 = fig.add_subplot(111)\n",
    "make_scatter(ax1, img_accs, bhscores, networks)\n",
    "ax1.set_xlabel('ImageNet top-1 accuracy (%)')\n",
    "ax1.set_ylabel('BH score')\n",
    "ax1.set_xlim([40, 90])\n",
    "ax1.set_ylim([0, 0.6])\n",
    "make_square_axes(ax1)\n",
    "\n",
    "plt.savefig('figure_3B.pdf')"
   ]
  },
  {
   "cell_type": "code",
   "execution_count": null,
   "metadata": {},
   "outputs": [],
   "source": []
  }
 ],
 "metadata": {
  "kernelspec": {
   "display_name": "Python 3",
   "language": "python",
   "name": "python3"
  },
  "language_info": {
   "codemirror_mode": {
    "name": "ipython",
    "version": 3
   },
   "file_extension": ".py",
   "mimetype": "text/x-python",
   "name": "python",
   "nbconvert_exporter": "python",
   "pygments_lexer": "ipython3",
   "version": "3.7.5"
  }
 },
 "nbformat": 4,
 "nbformat_minor": 4
}